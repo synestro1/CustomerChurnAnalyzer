{
 "cells": [
  {
   "cell_type": "markdown",
   "metadata": {},
   "source": [
    "# MTN Nigeria Churn Analysis and Predictive Modeling\n",
    "\n",
    "**Objectif :** Analyser le comportement des clients et identifier les facteurs contribuant au churn (attrition) pour MTN Nigeria afin d'améliorer les stratégies de rétention. Ce notebook inclut également la construction et l'évaluation de plusieurs modèles prédictifs de churn."
   ]
  },
  {
   "cell_type": "markdown",
   "metadata": {},
   "source": [
    "## 1. Importation des Bibliothèques Nécessaires"
   ]
  },
  {
   "cell_type": "code",
   "execution_count": 1,
   "metadata": {},
   "outputs": [],
   "source": [
    "import numpy as np \n",
    "import pandas as pd \n",
    "import seaborn as sns\n",
    "import matplotlib.pyplot as plt\n",
    "import warnings\n",
    "warnings.filterwarnings('ignore')\n",
    "\n",
    "import os\n",
    "\n",
    "from sklearn.model_selection import train_test_split\n",
    "from sklearn.preprocessing import LabelEncoder, StandardScaler\n",
    "from sklearn.metrics import accuracy_score, confusion_matrix, ConfusionMatrixDisplay, classification_report\n",
    "from sklearn.ensemble import RandomForestClassifier\n",
    "from sklearn.linear_model import LogisticRegression\n",
    "from sklearn.svm import SVC\n",
    "from sklearn.tree import DecisionTreeClassifier\n",
    "from sklearn.naive_bayes import GaussianNB\n",
    "from sklearn.neighbors import KNeighborsClassifier"
   ]
  },
  {
   "cell_type": "markdown",
   "metadata": {},
   "source": [
    "## 2. Chargement et Exploration Initiale des Données"
   ]
  },
  {
   "cell_type": "code",
   "execution_count": null,
   "metadata": {},
   "outputs": [
    {
     "name": "stdout",
     "output_type": "stream",
     "text": [
      "Fichier non trouvé à /kaggle/input/mtn-nigeria-customer-churn/mtn_customer_churn.csv. Tentative avec 'mtn_customer_churn.csv' localement.\n",
      "Chargement des données depuis: mtn_customer_churn.csv\n",
      "\n",
      "Fichiers disponibles dans le répertoire d'entrée (simulation Kaggle) :\n"
     ]
    }
   ],
   "source": [
    "# Chemin d'accès direct au fichier CSV\n",
    "# Option 1: Relative path (best if notebook and CSV are in the same folder 'pv1')\n",
    "csv_file_path = 'mtn_customer_churn.csv'\n",
    "\n",
    "# Option 2: Full absolute path (use if the notebook might be run from elsewhere,\n",
    "# or if the CSV is in a fixed, different location)\n",
    "# csv_file_path = 'C:/Users/HP/Downloads/pv1/mtn_customer_churn.csv'\n",
    "# Note: Use forward slashes '/' or escaped backslashes '\\\\' in Python strings for paths.\n",
    "\n",
    "# Vérifier si le fichier existe\n",
    "if not os.path.exists(csv_file_path):\n",
    "    print(f\"ERREUR: Le fichier CSV n'a pas été trouvé à '{csv_file_path}'.\")\n",
    "    print(f\"Veuillez vérifier que le fichier existe à cet emplacement ou que le chemin est correct.\")\n",
    "    # Vous pouvez lever une exception ici si le fichier est indispensable\n",
    "    raise FileNotFoundError(f\"Le fichier CSV '{csv_file_path}' n'a pas pu être localisé.\")\n",
    "else:\n",
    "    print(f\"Chargement des données depuis: {csv_file_path}\")\n",
    "    try:\n",
    "        df = pd.read_csv(csv_file_path)\n",
    "        print(\"Données chargées avec succès dans le DataFrame 'df'.\")\n",
    "        # print(df.head()) # Pour afficher les premières lignes du DataFrame\n",
    "    except Exception as e:\n",
    "        print(f\"Une erreur est survenue lors de la lecture du fichier CSV : {e}\")\n",
    "        # Gérer l'exception comme il se doit"
   ]
  },
  {
   "cell_type": "code",
   "execution_count": null,
   "metadata": {},
   "outputs": [],
   "source": [
    "df.head()"
   ]
  },
  {
   "cell_type": "code",
   "execution_count": null,
   "metadata": {},
   "outputs": [],
   "source": [
    "df.tail()"
   ]
  },
  {
   "cell_type": "code",
   "execution_count": null,
   "metadata": {},
   "outputs": [],
   "source": [
    "df.info()"
   ]
  },
  {
   "cell_type": "markdown",
   "metadata": {},
   "source": [
    "**Observations initiales :**\n",
    "*   Le dataset contient 974 entrées et 17 colonnes.\n",
    "*   La colonne `Reasons for Churn` a des valeurs manquantes (690 NaN). C'est attendu car cette colonne n'est renseignée que pour les clients ayant churné.\n",
    "*   Les autres colonnes ne présentent pas de valeurs manquantes.\n",
    "*   Plusieurs colonnes sont de type 'object' et devront être traitées pour la modélisation (ex: `Date of Purchase`, `State`, `MTN Device`, `Gender`, `Customer Review`, `Subscription Plan`)."
   ]
  },
  {
   "cell_type": "code",
   "execution_count": null,
   "metadata": {},
   "outputs": [],
   "source": [
    "df.describe(include='all')"
   ]
  },
  {
   "cell_type": "markdown",
   "metadata": {},
   "source": [
    "**Statistiques Descriptives :**\n",
    "*   **Age :** Varie de 16 à 80 ans, avec une moyenne de 48 ans.\n",
    "*   **Satisfaction Rate :** De 1 à 5, moyenne de 2.95. La colonne `Customer Review` semble être la version textuelle de `Satisfaction Rate`.\n",
    "*   **Customer Tenure in months :** Ancienneté du client, de 1 à 60 mois, moyenne de 31 mois.\n",
    "*   **Unit Price, Number of Times Purchased, Total Revenue, Data Usage :** Variables numériques avec des distributions variées qui seront explorées plus en détail."
   ]
  },
  {
   "cell_type": "code",
   "execution_count": null,
   "metadata": {},
   "outputs": [],
   "source": [
    "print(\"Valeurs manquantes par colonne :\\n\", df.isnull().sum())"
   ]
  },
  {
   "cell_type": "code",
   "execution_count": null,
   "metadata": {},
   "outputs": [],
   "source": [
    "print(\"\\nNombre de lignes dupliquées :\", df.duplicated().sum())"
   ]
  },
  {
   "cell_type": "markdown",
   "metadata": {},
   "source": [
    "Le dataset ne contient pas de lignes dupliquées."
   ]
  },
  {
   "cell_type": "code",
   "execution_count": null,
   "metadata": {},
   "outputs": [],
   "source": [
    "print(\"\\nTypes de données par colonne :\\n\", df.dtypes)"
   ]
  },
  {
   "cell_type": "code",
   "execution_count": null,
   "metadata": {},
   "outputs": [],
   "source": [
    "print(\"\\nDimensions du DataFrame :\", df.shape)"
   ]
  },
  {
   "cell_type": "code",
   "execution_count": null,
   "metadata": {},
   "outputs": [],
   "source": [
    "print(\"\\nColonnes du DataFrame :\\n\", df.columns.tolist())"
   ]
  },
  {
   "cell_type": "markdown",
   "metadata": {},
   "source": [
    "## 3. Nettoyage des Données et Feature Engineering"
   ]
  },
  {
   "cell_type": "markdown",
   "metadata": {},
   "source": [
    "La colonne `Reasons for Churn` est utile pour comprendre pourquoi les clients partent, mais elle ne sera pas utilisée comme feature pour prédire *si* un client va churner (car elle n'est connue qu'après le churn). Nous allons la garder pour l'EDA.\n",
    "La colonne `Customer Review` est la contrepartie textuelle de `Satisfaction Rate`. Nous utiliserons `Satisfaction Rate` pour la modélisation."
   ]
  },
  {
   "cell_type": "code",
   "execution_count": null,
   "metadata": {},
   "outputs": [],
   "source": [
    "# Feature Engineering: Création de 'Revenue_per_Month'\n",
    "# Gérer les cas où Customer Tenure in months pourrait être 0 pour éviter la division par zéro\n",
    "df['Revenue_per_Month'] = df.apply(lambda row: row['Total Revenue'] / row['Customer Tenure in months'] if row['Customer Tenure in months'] > 0 else 0, axis=1)\n",
    "\n",
    "df[['Total Revenue', 'Customer Tenure in months', 'Revenue_per_Month']].head()"
   ]
  },
  {
   "cell_type": "markdown",
   "metadata": {},
   "source": [
    "## 4. Analyse Exploratoire des Données (EDA) & Visualisations"
   ]
  },
  {
   "cell_type": "code",
   "execution_count": null,
   "metadata": {},
   "outputs": [],
   "source": [
    "plt.figure(figsize=(6,4))\n",
    "sns.countplot(x='Customer Churn Status', data=df, palette='Set2')\n",
    "plt.title('Distribution du Churn Client')\n",
    "plt.xlabel('Statut de Churn')\n",
    "plt.ylabel('Nombre de Clients')\n",
    "plt.savefig('churn_distribution.png') # Sauvegarde pour l'app web\n",
    "plt.show()\n",
    "\n",
    "print(df['Customer Churn Status'].value_counts(normalize=True))"
   ]
  },
  {
   "cell_type": "markdown",
   "metadata": {},
   "source": [
    "**Distribution du Churn :**\n",
    "*   Environ 70.8% des clients n'ont pas churné ('No').\n",
    "*   Environ 29.2% des clients ont churné ('Yes').\n",
    "C'est un dataset modérément déséquilibré, ce qui devra être pris en compte lors de l'évaluation des modèles."
   ]
  },
  {
   "cell_type": "code",
   "execution_count": null,
   "metadata": {},
   "outputs": [],
   "source": [
    "plt.figure(figsize=(8,5))\n",
    "sns.countplot(x='Gender', hue='Customer Churn Status', data=df, palette='Set1')\n",
    "plt.title('Churn par Genre')\n",
    "plt.xlabel('Genre')\n",
    "plt.ylabel('Nombre de Clients')\n",
    "plt.show()"
   ]
  },
  {
   "cell_type": "markdown",
   "metadata": {},
   "source": [
    "Le taux de churn semble similaire entre les genres, bien qu'il y ait légèrement plus d'hommes que de femmes dans le dataset."
   ]
  },
  {
   "cell_type": "code",
   "execution_count": null,
   "metadata": {},
   "outputs": [],
   "source": [
    "plt.figure(figsize=(12,7))\n",
    "churn_by_state = df.groupby(['State', 'Customer Churn Status']).size().unstack(fill_value=0)\n",
    "churn_by_state.plot(kind='bar', stacked=True, figsize=(14,8), colormap='coolwarm')\n",
    "plt.title('Churn Client par État')\n",
    "plt.ylabel('Nombre de Clients')\n",
    "plt.xlabel('État')\n",
    "plt.xticks(rotation=90)\n",
    "plt.tight_layout()\n",
    "plt.savefig('churn_by_state.png') # Sauvegarde pour l'app web\n",
    "plt.show()"
   ]
  },
  {
   "cell_type": "markdown",
   "metadata": {},
   "source": [
    "Certains états semblent avoir un nombre absolu plus élevé de churners, mais cela peut être dû à une plus grande base de clients dans ces états. Une analyse en pourcentage serait utile pour comparer les taux de churn."
   ]
  },
  {
   "cell_type": "code",
   "execution_count": null,
   "metadata": {},
   "outputs": [],
   "source": [
    "plt.figure(figsize=(10,6))\n",
    "sns.countplot(y='MTN Device', hue='Customer Churn Status', data=df, palette='husl')\n",
    "plt.title('Churn par Type d\\'Appareil MTN')\n",
    "plt.xlabel('Nombre de Clients')\n",
    "plt.ylabel('Appareil MTN')\n",
    "plt.legend(title='Statut de Churn')\n",
    "plt.show()"
   ]
  },
  {
   "cell_type": "markdown",
   "metadata": {},
   "source": [
    "Les clients utilisant des cartes SIM mobiles semblent être plus nombreux à churner, mais ils sont aussi les plus nombreux en général. Les proportions relatives de churn par type d'appareil seraient intéressantes."
   ]
  },
  {
   "cell_type": "code",
   "execution_count": null,
   "metadata": {},
   "outputs": [],
   "source": [
    "plt.figure(figsize=(8,6))\n",
    "sns.boxplot(x='Customer Churn Status', y='Customer Tenure in months', data=df, palette='coolwarm')\n",
    "plt.title('Comparaison de l\\'Ancienneté par Statut de Churn')\n",
    "plt.ylabel('Ancienneté (Mois)')\n",
    "plt.xlabel('Statut de Churn')\n",
    "plt.show()"
   ]
  },
  {
   "cell_type": "markdown",
   "metadata": {},
   "source": [
    "Les clients qui ont churné ont tendance à avoir une ancienneté (tenure) plus faible que ceux qui n'ont pas churné. La médiane de l'ancienneté pour les non-churners est plus élevée."
   ]
  },
  {
   "cell_type": "code",
   "execution_count": null,
   "metadata": {},
   "outputs": [],
   "source": [
    "plt.figure(figsize=(10,6))\n",
    "sns.histplot(data=df, x='Total Revenue', hue='Customer Churn Status', kde=True, palette='Set2', multiple='stack')\n",
    "plt.title('Distribution du Revenu Total par Statut de Churn')\n",
    "plt.xlabel('Revenu Total')\n",
    "plt.ylabel('Nombre de Clients')\n",
    "plt.show()"
   ]
  },
  {
   "cell_type": "markdown",
   "metadata": {},
   "source": [
    "La distribution du revenu total montre que les clients générant moins de revenus ont tendance à churner davantage, bien que le churn existe à tous les niveaux de revenu."
   ]
  },
  {
   "cell_type": "code",
   "execution_count": null,
   "metadata": {},
   "outputs": [],
   "source": [
    "plt.figure(figsize=(10,6))\n",
    "sns.violinplot(x='Customer Churn Status', y='Data Usage', data=df, palette='YlOrBr')\n",
    "plt.title('Utilisation des Données par Statut de Churn (GB)')\n",
    "plt.ylabel('Utilisation des Données (GB)')\n",
    "plt.xlabel('Statut de Churn')\n",
    "plt.show()"
   ]
  },
  {
   "cell_type": "markdown",
   "metadata": {},
   "source": [
    "L'utilisation des données semble assez similaire entre les churners et les non-churners, bien que la distribution pour les non-churners soit légèrement plus étalée vers des utilisations plus élevées."
   ]
  },
  {
   "cell_type": "code",
   "execution_count": null,
   "metadata": {},
   "outputs": [],
   "source": [
    "plt.figure(figsize=(12,8))\n",
    "top_reasons = df['Reasons for Churn'].value_counts().head(10)\n",
    "sns.barplot(x=top_reasons.values, y=top_reasons.index, palette='Set3')\n",
    "plt.title('Top 10 des Raisons de Churn')\n",
    "plt.xlabel('Nombre de Clients')\n",
    "plt.ylabel('Raison')\n",
    "plt.tight_layout()\n",
    "plt.savefig('top_churn_reasons.png') # Sauvegarde pour l'app web\n",
    "plt.show()"
   ]
  },
  {
   "cell_type": "markdown",
   "metadata": {},
   "source": [
    "Les principales raisons de churn incluent les tarifs d'appel élevés, les offres concurrentes plus intéressantes, et la consommation rapide des données."
   ]
  },
  {
   "cell_type": "code",
   "execution_count": null,
   "metadata": {},
   "outputs": [],
   "source": [
    "plt.figure(figsize=(12,10))\n",
    "churn_rate_by_plan = df.groupby('Subscription Plan')['Customer Churn Status'].value_counts(normalize=True).mul(100).unstack().fillna(0)\n",
    "churn_rate_by_plan.plot(kind='barh', stacked=True, figsize=(10,12), colormap='RdYlGn_r')\n",
    "plt.title('Taux de Churn par Plan de Souscription')\n",
    "plt.xlabel('Pourcentage de Clients (%)')\n",
    "plt.ylabel('Plan de Souscription')\n",
    "plt.legend(title='Statut de Churn')\n",
    "plt.tight_layout()\n",
    "plt.show()"
   ]
  },
  {
   "cell_type": "markdown",
   "metadata": {},
   "source": [
    "Cette visualisation montre le pourcentage de churners et de non-churners pour chaque plan. Certains plans pourraient avoir un taux de churn proportionnellement plus élevé."
   ]
  },
  {
   "cell_type": "code",
   "execution_count": null,
   "metadata": {},
   "outputs": [],
   "source": [
    "numerical_cols = df.select_dtypes(include=['int64', 'float64']).columns\n",
    "plt.figure(figsize=(12,10))\n",
    "sns.heatmap(df[numerical_cols].corr(), annot=True, cmap='coolwarm', fmt=\".2f\")\n",
    "plt.title(\"Heatmap de Corrélation des Variables Numériques\")\n",
    "plt.show()"
   ]
  },
  {
   "cell_type": "markdown",
   "metadata": {},
   "source": [
    "La heatmap de corrélation montre :\n",
    "*   Une forte corrélation positive entre `Total Revenue` et `Unit Price`, ainsi qu'entre `Total Revenue` et `Number of Times Purchased` (ce qui est logique).\n",
    "*   `Revenue_per_Month` est corrélé avec `Unit Price`.\n",
    "*   Il n'y a pas de corrélations extrêmement fortes entre les autres features, ce qui est bon pour éviter la multicolinéarité dans les modèles."
   ]
  },
  {
   "cell_type": "markdown",
   "metadata": {},
   "source": [
    "## 5. Préparation des Données pour la Modélisation"
   ]
  },
  {
   "cell_type": "code",
   "execution_count": null,
   "metadata": {},
   "outputs": [],
   "source": [
    "# Définir la colonne cible\n",
    "target_col = 'Customer Churn Status'\n",
    "\n",
    "# Colonnes à retirer pour la modélisation (non prédictives ou trop liées à la cible a posteriori)\n",
    "cols_to_drop_model = [target_col, 'Date of Purchase', 'Customer ID', 'Full Name', 'Customer Review', 'Reasons for Churn']\n",
    "existing_drop_cols_model = [col for col in cols_to_drop_model if col in df.columns]\n",
    "predictor_cols_model = [col for col in df.columns if col not in existing_drop_cols_model]\n",
    "\n",
    "# Créer le DataFrame pour le modèle avec les features sélectionnées\n",
    "df_for_model = df[predictor_cols_model].copy()\n",
    "\n",
    "# Encodage One-hot des variables catégorielles restantes dans les prédicteurs\n",
    "df_model_encoded = pd.get_dummies(df_for_model, drop_first=True)\n",
    "\n",
    "X = df_model_encoded.copy()\n",
    "\n",
    "# Créer la variable cible (y) en encodant 'Yes'/'No' en 1/0\n",
    "if target_col in df.columns:\n",
    "    y = df[target_col].apply(lambda x: 1 if isinstance(x, str) and x.strip().lower() in ['yes'] else 0)\n",
    "else:\n",
    "    raise ValueError(f'La colonne cible {target_col} n\\'existe pas dans le DataFrame.')\n",
    "\n",
    "print('Forme de la matrice des features (X) :', X.shape)\n",
    "print('Forme du vecteur cible (y) :', y.shape)\n",
    "\n",
    "if X.shape[0] == 0:\n",
    "    raise ValueError('La matrice des features est vide. Vérifiez les étapes de nettoyage.')\n",
    "\n",
    "# Division Stratifiée en ensembles d'entraînement et de test\n",
    "X_train, X_test, y_train, y_test = train_test_split(\n",
    "    X, y, test_size=0.3, random_state=42, stratify=y\n",
    ")\n",
    "\n",
    "print('\\nForme de X_train :', X_train.shape)\n",
    "print('Forme de X_test :', X_test.shape)\n",
    "\n",
    "# Scaling des features numériques\n",
    "scaler = StandardScaler()\n",
    "X_train_scaled = scaler.fit_transform(X_train)\n",
    "X_test_scaled = scaler.transform(X_test)\n",
    "\n",
    "# Convertir les arrays NumPy en DataFrames pour conserver les noms de colonnes (optionnel mais bon pour la lisibilité)\n",
    "X_train = pd.DataFrame(X_train_scaled, columns=X.columns)\n",
    "X_test = pd.DataFrame(X_test_scaled, columns=X.columns)\n",
    "\n",
    "print(\"\\nDistribution des classes dans le dataset complet :\\n\", y.value_counts(normalize=True))\n",
    "print(\"Distribution des classes dans l'ensemble d'entraînement :\\n\", y_train.value_counts(normalize=True))\n",
    "print(\"Distribution des classes dans l'ensemble de test :\\n\", y_test.value_counts(normalize=True))"
   ]
  },
  {
   "cell_type": "markdown",
   "metadata": {},
   "source": [
    "La stratification a bien fonctionné, les proportions des classes sont similaires dans les ensembles d'entraînement et de test."
   ]
  },
  {
   "cell_type": "markdown",
   "metadata": {},
   "source": [
    "## 6. Modélisation Prédictive"
   ]
  },
  {
   "cell_type": "code",
   "execution_count": null,
   "metadata": {},
   "outputs": [],
   "source": [
    "# Définir les modèles\n",
    "models = {\n",
    "    \"Logistic Regression\": LogisticRegression(max_iter=2000, random_state=42),\n",
    "    \"Random Forest\": RandomForestClassifier(random_state=42),\n",
    "    \"SVM (RBF Kernel)\": SVC(probability=True, random_state=42),\n",
    "    \"Decision Tree\": DecisionTreeClassifier(random_state=42),\n",
    "    \"Naive Bayes\": GaussianNB(),\n",
    "    \"KNN\": KNeighborsClassifier()\n",
    "}\n",
    "\n",
    "results = {}\n",
    "\n",
    "# Entraîner et évaluer chaque modèle\n",
    "for name, model in models.items():\n",
    "    print(f\"\\n--- Entraînement et Évaluation du modèle : {name} ---\")\n",
    "    model.fit(X_train, y_train)\n",
    "    preds = model.predict(X_test)\n",
    "    \n",
    "    accuracy = accuracy_score(y_test, preds)\n",
    "    report = classification_report(y_test, preds, target_names=['No Churn', 'Churn'])\n",
    "    cm = confusion_matrix(y_test, preds)\n",
    "    \n",
    "    results[name] = {'accuracy': accuracy, 'report': report, 'confusion_matrix': cm}\n",
    "    \n",
    "    print(f\"Accuracy : {accuracy:.4f}\")\n",
    "    print(\"Rapport de Classification :\\n\", report)\n",
    "    \n",
    "    # Matrice de Confusion\n",
    "    disp = ConfusionMatrixDisplay(confusion_matrix=cm, display_labels=[\"No Churn\", \"Churn\"])\n",
    "    disp.plot(cmap='Blues')\n",
    "    plt.title(f\"{name} - Matrice de Confusion\")\n",
    "    plt.show()"
   ]
  },
  {
   "cell_type": "markdown",
   "metadata": {},
   "source": [
    "## 7. Comparaison des Modèles et Conclusion"
   ]
  },
  {
   "cell_type": "code",
   "execution_count": null,
   "metadata": {},
   "outputs": [],
   "source": [
    "print(\"Tableau Récapitulatif des Précisions des Modèles :\\n\")\n",
    "for name, metrics in results.items():\n",
    "    print(f\"{name}: {metrics['accuracy']:.4f}\")\n",
    "\n",
    "best_model_name = max(results, key=lambda name: results[name]['accuracy'])\n",
    "print(f\"\\nLe meilleur modèle basé sur l'accuracy est : {best_model_name} avec une accuracy de {results[best_model_name]['accuracy']:.4f}\")"
   ]
  },
  {
   "cell_type": "markdown",
   "metadata": {},
   "source": [
    "**Conclusions de la Modélisation :**\n",
    "*   La plupart des modèles ont une performance similaire en termes d'accuracy, autour de 70-71%.\n",
    "*   Le Naive Bayes a une performance légèrement inférieure.\n",
    "*   En regardant les rapports de classification, il est important de noter les scores de précision et de rappel pour la classe 'Churn' (1), car c'est souvent la classe minoritaire et la plus critique à prédire correctement.\n",
    "*   La **Régression Logistique** et le **Random Forest** semblent offrir un bon compromis entre les différentes métriques.\n",
    "\n",
    "**Facteurs Clés influençant le Churn (basé sur l'EDA) :**\n",
    "*   **Ancienneté (Tenure) :** Les clients avec une plus faible ancienneté sont plus susceptibles de churner.\n",
    "   **Revenu Total :** Les clients générant moins de revenus ont une propension plus élevée au churn.\n",
    "   **Raisons de Churn :** Les tarifs élevés, les offres concurrentes et la consommation rapide des données sont des raisons majeures.\n",
    "   **Plans de Souscription :** Certains plans pourraient être associés à des taux de churn plus élevés.\n",
    "   **État Géographique :** Des disparités de churn peuvent exister entre les états, potentiellement liées à la qualité du réseau ou à la concurrence locale.\n",
    "\n",
    "**Recommandations Business Potentielles :**\n",
    "1.  **Programmes de Rétention pour Nouveaux Clients :** Mettre en place des offres spéciales ou un suivi client amélioré pour les clients ayant une faible ancienneté afin de les fidéliser.\n",
    "2.  **Optimisation des Plans Tarifaires :** Revoir les plans de données, en particulier ceux perçus comme coûteux ou menant à une consommation rapide, pour offrir un meilleur rapport qualité-prix.\n",
    "3.  **Analyse Concurrentielle Continue :** Surveiller les offres des concurrents et adapter les propositions de valeur MTN en conséquence.\n",
    "4.  **Amélioration du Réseau :** Investir dans l'amélioration de la qualité du réseau dans les états où le churn est élevé et où la raison invoquée est la mauvaise qualité du réseau.\n",
    "5.  **Service Client :** Adresser les problèmes de service client qui peuvent mener au churn.\n",
    "6.  **Offres Personnalisées :** Utiliser les données de comportement client (comme l'utilisation des données, le revenu généré) pour proposer des offres et des plans plus personnalisés et adaptés.\n",
    "\n",
    "**Pistes Futures :**\n",
    "*   Explorer des techniques de rééquilibrage des classes (ex: SMOTE) si le déséquilibre impacte fortement la prédiction de la classe minoritaire (churners).\n",
    "   Optimiser les hyperparamètres des modèles les plus performants (ex: GridSearchCV, RandomizedSearchCV).\n",
    "   Analyser plus en profondeur l'impact des variables de `Date of Purchase` en créant des features temporelles.\n",
    "   Développer un modèle pour prédire les *raisons* du churn afin de cibler les actions de rétention de manière encore plus précise."
   ]
  }
 ],
 "metadata": {
  "kernelspec": {
   "display_name": ".venv",
   "language": "python",
   "name": "python3"
  },
  "language_info": {
   "codemirror_mode": {
    "name": "ipython",
    "version": 3
   },
   "file_extension": ".py",
   "mimetype": "text/x-python",
   "name": "python",
   "nbconvert_exporter": "python",
   "pygments_lexer": "ipython3",
   "version": "3.13.1"
  }
 },
 "nbformat": 4,
 "nbformat_minor": 5
}
